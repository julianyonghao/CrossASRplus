{
 "metadata": {
  "language_info": {
   "codemirror_mode": {
    "name": "ipython",
    "version": 3
   },
   "file_extension": ".py",
   "mimetype": "text/x-python",
   "name": "python",
   "nbconvert_exporter": "python",
   "pygments_lexer": "ipython3",
   "version": "3.6.9"
  },
  "orig_nbformat": 2,
  "kernelspec": {
   "name": "python369jvsc74a57bd031f2aee4e71d21fbe5cf8b01ff0e069b9275f58929596ceb00d14d90e3e16cd6",
   "display_name": "Python 3.6.9 64-bit"
  },
  "metadata": {
   "interpreter": {
    "hash": "31f2aee4e71d21fbe5cf8b01ff0e069b9275f58929596ceb00d14d90e3e16cd6"
   }
  }
 },
 "nbformat": 4,
 "nbformat_minor": 2,
 "cells": [
  {
   "source": [
    "import pandas as pd\n",
    "import numpy as np\n",
    "import json"
   ],
   "cell_type": "code",
   "metadata": {},
   "execution_count": 3,
   "outputs": []
  },
  {
   "source": [
    "## RQ1"
   ],
   "cell_type": "markdown",
   "metadata": {}
  },
  {
   "cell_type": "code",
   "execution_count": 5,
   "metadata": {},
   "outputs": [
    {
     "output_type": "stream",
     "name": "stdout",
     "text": [
      "4 ASRs & 266 & 171 & 391 & 704 & - & 1532 \\\\\n5 ASRs & 341 & 225 & 454 & 280 & 767 & 2067 \\\\\n"
     ]
    }
   ],
   "source": [
    "bef = \"output/europarl-seed2021/result/rv/deepspeech_deepspeech2_wav2letter_wit/text_batch_size_400/with-estimator-albert-base-v2.json\"\n",
    "aft = \"output/europarl-seed2021/result/rv/deepspeech_deepspeech2_wav2letter_wit_wav2vec2/text_batch_size_400/with-estimator-albert-base-v2.json\"\n",
    "\n",
    "def get_rq1(fpath) :\n",
    "    with open(fpath) as f:\n",
    "        data = json.load(f)\n",
    "    res = []\n",
    "    for x,v in data[\"number_of_failed_test_cases_per_asr\"].items():\n",
    "        # v = \n",
    "        # v = x.values()[0]\n",
    "        res.append(v[-1])\n",
    "    return res\n",
    "\n",
    "bef = get_rq1(bef)\n",
    "aft = get_rq1(aft)\n",
    "\n",
    "print(f\"4 ASRs & \" + \" & \".join([str(b) for b in bef]) + f\" & - & {sum(bef)} \\\\\\\\\")\n",
    "print(f\"5 ASRs & \" + \" & \".join([str(a) for a in aft]) + f\" & {sum(aft)} \\\\\\\\\")\n"
   ]
  },
  {
   "source": [
    "## RQ2"
   ],
   "cell_type": "markdown",
   "metadata": {}
  },
  {
   "cell_type": "code",
   "execution_count": 40,
   "metadata": {},
   "outputs": [],
   "source": [
    "result_folder = \"output/europarl-seed2021/result/rv/deepspeech_deepspeech2_wav2letter_wit/text_batch_size_1200/\"\n",
    "estimators = [\"albert-base-v2\", \"facebook/bart-base\", \"bert-base-cased\", \"bert-base-uncased\", \"distilbert-base-uncased\", \"xlnet-base-cased\", \"roberta-base\"]\n",
    "\n",
    "estimators = [\"albert-base-v2\", \"facebook/bart-base\", \"bert-base-cased\", \"bert-base-uncased\", \"distilbert-base-uncased\"]\n",
    "\n",
    "\n",
    "def rename(s):\n",
    "    return s.replace(\"/\", \"-\")\n",
    "\n",
    "estimators = [rename(e) for e in estimators]"
   ]
  },
  {
   "cell_type": "code",
   "execution_count": 41,
   "metadata": {},
   "outputs": [
    {
     "output_type": "execute_result",
     "data": {
      "text/plain": [
       "1885"
      ]
     },
     "metadata": {},
     "execution_count": 41
    }
   ],
   "source": [
    "def get_nftc(fpath) :\n",
    "    with open(fpath) as f:\n",
    "        data = json.load(f)\n",
    "    return data[\"number_of_failed_test_cases_all\"][-1]\n",
    "\n",
    "estimator = \"albert-base-v2\"\n",
    "fpath = result_folder + \"with-estimator-\" + estimator + \".json\"\n",
    "get_nftc(fpath)"
   ]
  },
  {
   "cell_type": "code",
   "execution_count": 42,
   "metadata": {},
   "outputs": [
    {
     "output_type": "execute_result",
     "data": {
      "text/plain": [
       "                 estimator  failed test cases\n",
       "0             No estimator               1199\n",
       "1           albert-base-v2               1885\n",
       "2       facebook-bart-base               1921\n",
       "3        bert-base-uncased               1931\n",
       "4  distilbert-base-uncased               1935\n",
       "5          bert-base-cased               1942"
      ],
      "text/html": "<div>\n<style scoped>\n    .dataframe tbody tr th:only-of-type {\n        vertical-align: middle;\n    }\n\n    .dataframe tbody tr th {\n        vertical-align: top;\n    }\n\n    .dataframe thead th {\n        text-align: right;\n    }\n</style>\n<table border=\"1\" class=\"dataframe\">\n  <thead>\n    <tr style=\"text-align: right;\">\n      <th></th>\n      <th>estimator</th>\n      <th>failed test cases</th>\n    </tr>\n  </thead>\n  <tbody>\n    <tr>\n      <th>0</th>\n      <td>No estimator</td>\n      <td>1199</td>\n    </tr>\n    <tr>\n      <th>1</th>\n      <td>albert-base-v2</td>\n      <td>1885</td>\n    </tr>\n    <tr>\n      <th>2</th>\n      <td>facebook-bart-base</td>\n      <td>1921</td>\n    </tr>\n    <tr>\n      <th>3</th>\n      <td>bert-base-uncased</td>\n      <td>1931</td>\n    </tr>\n    <tr>\n      <th>4</th>\n      <td>distilbert-base-uncased</td>\n      <td>1935</td>\n    </tr>\n    <tr>\n      <th>5</th>\n      <td>bert-base-cased</td>\n      <td>1942</td>\n    </tr>\n  </tbody>\n</table>\n</div>"
     },
     "metadata": {},
     "execution_count": 42
    }
   ],
   "source": [
    "nftcs = []\n",
    "\n",
    "for estimator in estimators :\n",
    "    fpath = result_folder + \"with-estimator-\" + estimator + \".json\"\n",
    "    nftcs.append(get_nftc(fpath))\n",
    "\n",
    "fpath = result_folder + \"without-estimator.json\"\n",
    "nftcs.append(get_nftc(fpath))\n",
    "\n",
    "final_estimators = estimators + [\"No estimator\"]\n",
    "\n",
    "df = pd.DataFrame(data={\"estimator\": final_estimators, \"failed test cases\": nftcs})\n",
    "df = df.sort_values(by=[\"failed test cases\"]).reset_index(drop=True)\n",
    "df\n"
   ]
  },
  {
   "cell_type": "code",
   "execution_count": 43,
   "metadata": {},
   "outputs": [
    {
     "output_type": "stream",
     "name": "stdout",
     "text": [
      "No estimator & 1199 \\\\\nalbert-base-v2 & 1885 \\\\\nfacebook-bart-base & 1921 \\\\\nbert-base-uncased & 1931 \\\\\ndistilbert-base-uncased & 1935 \\\\\nbert-base-cased & 1942 \\\\\n"
     ]
    }
   ],
   "source": [
    "def print_rq2_tex(estimators, nftcs) :\n",
    "    for e, n in zip(estimators, nftcs) :\n",
    "        print(f\"{e} & {n} \\\\\\\\\")\n",
    "\n",
    "print_rq2_tex(df[\"estimator\"], df[\"failed test cases\"])"
   ]
  },
  {
   "cell_type": "code",
   "execution_count": null,
   "metadata": {},
   "outputs": [],
   "source": []
  },
  {
   "cell_type": "code",
   "execution_count": null,
   "metadata": {},
   "outputs": [],
   "source": []
  },
  {
   "cell_type": "code",
   "execution_count": null,
   "metadata": {},
   "outputs": [],
   "source": []
  }
 ]
}